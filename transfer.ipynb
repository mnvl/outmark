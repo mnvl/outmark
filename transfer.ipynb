{
 "cells": [
  {
   "cell_type": "code",
   "execution_count": null,
   "metadata": {},
   "outputs": [],
   "source": [
    "import os\n",
    "import numpy as np\n",
    "import matplotlib.pyplot as plt\n",
    "import imageio\n",
    "import tensorflow as tf\n",
    "from tqdm import tqdm\n",
    "\n",
    "%matplotlib inline\n",
    "plt.rcParams['figure.figsize'] = (10, 6)\n",
    "\n",
    "MODELS_DIR = \"/home/mel/datasets/outmark/\""
   ]
  },
  {
   "cell_type": "code",
   "execution_count": null,
   "metadata": {},
   "outputs": [],
   "source": [
    "graph = tf.Graph()\n",
    "session = tf.Session(graph=graph)\n",
    "\n",
    "models = [\"abdomen\", \"lits\"]\n",
    "\n",
    "with graph.as_default():\n",
    "    for model in models:\n",
    "        tf.train.import_meta_graph(MODELS_DIR + model + \".graphdef\", import_scope=model)\n",
    "\n",
    "    session.run(tf.global_variables_initializer())"
   ]
  },
  {
   "cell_type": "code",
   "execution_count": null,
   "metadata": {},
   "outputs": [],
   "source": [
    "def normalize_image(image):\n",
    "    image = image.astype(np.float32)\n",
    "    background = np.abs(np.min(image))\n",
    "    if background > 0:\n",
    "        image /= background\n",
    "    return image\n",
    "\n",
    "def extract_features(image):\n",
    "    image = normalize_image(image)\n",
    "\n",
    "    all_results = []\n",
    "    for model in models:\n",
    "        inputs = graph.get_tensor_by_name(model + \"/X:0\")\n",
    "        is_training = graph.get_tensor_by_name(model + \"/is_training_1:0\")\n",
    "        keep_prob = graph.get_tensor_by_name(model + \"/keep_prob:0\")\n",
    "        features = graph.get_tensor_by_name(model + \"/features:0\")\n",
    "\n",
    "        results = []\n",
    "        for z in range(image.shape[0]):\n",
    "            X = np.expand_dims(np.expand_dims(image[z, :, :], axis=0), axis=1)\n",
    "            f, = session.run([features], feed_dict={inputs: X, is_training: False, keep_prob: 0.5})\n",
    "            \n",
    "            results.append(f[0, 0, :, :])\n",
    "\n",
    "        results = np.stack(results, axis=0)\n",
    "        all_results.append(results)\n",
    "\n",
    "    return np.concatenate(all_results, axis = -1)\n",
    "\n",
    "assert extract_features(np.random.normal(size=(5,32,32))).shape[0:3] == (5, 32, 32)"
   ]
  },
  {
   "cell_type": "code",
   "execution_count": null,
   "metadata": {},
   "outputs": [],
   "source": [
    "DSBOWL_DIR = \"/large/datasets/dsbowl2018/\"\n",
    "\n",
    "train_images = []\n",
    "train_masks = []\n",
    "\n",
    "for item in tqdm(os.listdir(DSBOWL_DIR + \"/stage1_train/\")):\n",
    "    basedir = DSBOWL_DIR + \"/stage1_train/\" + item\n",
    "    imagesdir = basedir + \"/images/\"\n",
    "    masksdir = basedir + \"/masks/\"\n",
    "\n",
    "    image = imageio.imread(imagesdir + item + \".png\")\n",
    "    masks = [imageio.imread(masksdir + mask) for mask in os.listdir(masksdir)]\n",
    "        \n",
    "    train_images.append(image)\n",
    "    train_masks.append(masks)"
   ]
  },
  {
   "cell_type": "code",
   "execution_count": null,
   "metadata": {},
   "outputs": [],
   "source": [
    "x = train_images[0]/255.0\n",
    "x = np.swapaxes(x, 0, 2)\n",
    "\n",
    "f = extract_features(x)\n",
    "\n",
    "fig=plt.figure(figsize=(12, 12))\n",
    "nrows = 2\n",
    "ncols = 4\n",
    "for i in range(ncols):\n",
    "    fig.add_subplot(nrows, ncols, 1 + i)\n",
    "    plt.imshow(x[i, :, :], cmap='gray')\n",
    "    \n",
    "    fig.add_subplot(nrows, ncols, 1 + i + ncols)\n",
    "    plt.imshow(f[i, :, :, 0], cmap='gray')\n",
    "\n",
    "fig.show()"
   ]
  },
  {
   "cell_type": "code",
   "execution_count": null,
   "metadata": {},
   "outputs": [],
   "source": []
  }
 ],
 "metadata": {
  "kernelspec": {
   "display_name": "Python 3",
   "language": "python",
   "name": "python3"
  },
  "language_info": {
   "codemirror_mode": {
    "name": "ipython",
    "version": 3
   },
   "file_extension": ".py",
   "mimetype": "text/x-python",
   "name": "python",
   "nbconvert_exporter": "python",
   "pygments_lexer": "ipython3",
   "version": "3.6.3"
  }
 },
 "nbformat": 4,
 "nbformat_minor": 2
}
