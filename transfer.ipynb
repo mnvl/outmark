{
 "cells": [
  {
   "cell_type": "code",
   "execution_count": null,
   "metadata": {},
   "outputs": [],
   "source": [
    "import os\n",
    "import numpy as np\n",
    "import scipy.io\n",
    "import matplotlib.pyplot as plt\n",
    "import imageio\n",
    "import tensorflow as tf\n",
    "from tqdm import tqdm\n",
    "\n",
    "%matplotlib inline\n",
    "plt.rcParams['figure.figsize'] = (10, 6)\n",
    "\n",
    "MODELS_DIR = \"/home/mel/datasets/outmark/\""
   ]
  },
  {
   "cell_type": "code",
   "execution_count": null,
   "metadata": {},
   "outputs": [],
   "source": [
    "graph = tf.Graph()\n",
    "session = tf.Session(graph=graph)\n",
    "\n",
    "models = [\"abdomen\", \"lits\"]\n",
    "\n",
    "with tf.device('/cpu:0'):\n",
    "    with graph.as_default():\n",
    "        for model in models:\n",
    "            tf.train.import_meta_graph(MODELS_DIR + model + \".graphdef\", import_scope=model)\n",
    "\n",
    "        session.run(tf.global_variables_initializer())"
   ]
  },
  {
   "cell_type": "code",
   "execution_count": null,
   "metadata": {},
   "outputs": [],
   "source": [
    "def extract_features(image):\n",
    "    all_results = []\n",
    "    for model in models:\n",
    "        inputs = graph.get_tensor_by_name(model + \"/X:0\")\n",
    "        is_training = graph.get_tensor_by_name(model + \"/is_training_1:0\")\n",
    "        keep_prob = graph.get_tensor_by_name(model + \"/keep_prob:0\")\n",
    "        features = graph.get_tensor_by_name(model + \"/features:0\")\n",
    "\n",
    "        results = []\n",
    "        for z in tqdm(range(image.shape[0])):\n",
    "            X = np.expand_dims(np.expand_dims(image[z, :, :], axis=0), axis=1)\n",
    "            f, = session.run([features], feed_dict={inputs: X, is_training: False, keep_prob: 0.5})\n",
    "            \n",
    "            results.append(f[0, 0, :, :])\n",
    "\n",
    "        results = np.stack(results, axis=0)\n",
    "        all_results.append(results)\n",
    "\n",
    "    return np.concatenate(all_results, axis=-1)\n",
    "\n",
    "assert extract_features(np.random.normal(size=(5,32,32))).shape[0:3] == (5, 32, 32)"
   ]
  },
  {
   "cell_type": "code",
   "execution_count": null,
   "metadata": {},
   "outputs": [],
   "source": [
    "DATA_DIR = \"/large/datasets/NF/\"\n",
    "\n",
    "example = scipy.io.loadmat(DATA_DIR + \"NFdb_1013_5.mat\")\n",
    "example = example[\"Inh\"][0][0]"
   ]
  },
  {
   "cell_type": "code",
   "execution_count": null,
   "metadata": {},
   "outputs": [],
   "source": [
    "fig=plt.figure(figsize=(12, 12))\n",
    "\n",
    "fig.add_subplot(1, 4, 1)\n",
    "plt.imshow(example[1][200], cmap='gray')\n",
    "\n",
    "fig.add_subplot(1, 4, 2)\n",
    "plt.imshow(example[2][200], cmap='gray')\n",
    "\n",
    "fig.add_subplot(1, 4, 3)\n",
    "plt.imshow(example[3][200], cmap='gray')\n",
    "\n",
    "fig.add_subplot(1, 4, 4)\n",
    "plt.imshow(example[4][200], cmap='gray')\n"
   ]
  },
  {
   "cell_type": "code",
   "execution_count": null,
   "metadata": {},
   "outputs": [],
   "source": [
    "X = np.swapaxes(example[2], 0, 2).copy()\n",
    "Y = np.swapaxes(example[1], 0, 2).copy()\n",
    "\n",
    "assert X.shape == Y.shape\n",
    "\n",
    "pad_x_1 = (512 - X.shape[1])//2\n",
    "pad_x_2 = 512 - X.shape[1] - pad_x_1\n",
    "pad_y_1 = (512 - X.shape[2])//2\n",
    "pad_y_2 = 512 - X.shape[2] - pad_y_1\n",
    "\n",
    "X = np.pad(X, pad_width=[(0, 0), (pad_x_1, pad_x_2), (pad_y_1, pad_y_2)], mode=\"edge\")\n",
    "Y = np.pad(Y, pad_width=[(0, 0), (pad_x_1, pad_x_2), (pad_y_1, pad_y_2)], mode=\"edge\")\n",
    "\n",
    "Y[X == Y] = 0\n",
    "X = (X - 1024.0) / 1024.0\n",
    "Y = Y.astype(np.int32)\n",
    "\n",
    "fig=plt.figure(figsize=(12, 12))\n",
    "\n",
    "fig.add_subplot(2, 2, 1)\n",
    "plt.imshow(X[100])\n",
    "\n",
    "fig.add_subplot(2, 2, 2)\n",
    "plt.hist(X.reshape(-1), bins = 20)\n",
    "\n",
    "fig.add_subplot(2, 2, 3)\n",
    "plt.imshow(Y[100])\n",
    "\n",
    "fig.add_subplot(2, 2, 4)\n",
    "plt.hist(Y.reshape(-1), bins = 20)\n",
    "\n",
    "fig.show()"
   ]
  },
  {
   "cell_type": "code",
   "execution_count": null,
   "metadata": {},
   "outputs": [],
   "source": [
    "F = extract_features(X[100:110])"
   ]
  },
  {
   "cell_type": "code",
   "execution_count": null,
   "metadata": {},
   "outputs": [],
   "source": [
    "fig=plt.figure(figsize=(12, 12))\n",
    "fig.add_subplot(2, 1, 1)\n",
    "plt.hist(F[:, :, :, 0].reshape(-1))\n",
    "fig.add_subplot(2, 1, 2)\n",
    "plt.hist(X.reshape(-1));"
   ]
  },
  {
   "cell_type": "code",
   "execution_count": null,
   "metadata": {},
   "outputs": [],
   "source": [
    "fig=plt.figure(figsize=(12, 12))\n",
    "\n",
    "fig.add_subplot(2, 2, 1)\n",
    "plt.imshow(X[100], cmap=\"gray\")\n",
    "\n",
    "fig.add_subplot(2, 2, 2)\n",
    "plt.imshow(F[0, :, :, 90], cmap=\"gray\")\n",
    "\n",
    "fig.add_subplot(2, 2, 3)\n",
    "plt.imshow(F[0, :, :, 10], cmap=\"gray\")\n",
    "\n",
    "fig.add_subplot(2, 2, 4)\n",
    "plt.imshow(F[0, :, :, 110], cmap=\"gray\")\n",
    "\n",
    "fig.show()"
   ]
  },
  {
   "cell_type": "code",
   "execution_count": null,
   "metadata": {},
   "outputs": [],
   "source": [
    "F_flat = F.reshape(-1, F.shape[-1])\n",
    "Y_flat = Y[100:110].reshape(-1, 1)\n",
    "\n",
    "from sklearn.ensemble import RandomForestClassifier\n",
    "from sklearn.model_selection import train_test_split\n",
    "\n",
    "X_train, X_test, y_train, y_test = train_test_split(F_flat, Y_flat, test_size=0.3)\n",
    "\n",
    "clf = RandomForestClassifier(n_estimators=10)\n",
    "clf = clf.fit(X_train, y_train)\n",
    "\n",
    "print(np.mean(clf.predict(X_test) == y_test))"
   ]
  },
  {
   "cell_type": "code",
   "execution_count": null,
   "metadata": {},
   "outputs": [],
   "source": []
  }
 ],
 "metadata": {
  "kernelspec": {
   "display_name": "Python 3",
   "language": "python",
   "name": "python3"
  },
  "language_info": {
   "codemirror_mode": {
    "name": "ipython",
    "version": 3
   },
   "file_extension": ".py",
   "mimetype": "text/x-python",
   "name": "python",
   "nbconvert_exporter": "python",
   "pygments_lexer": "ipython3",
   "version": "3.6.3"
  }
 },
 "nbformat": 4,
 "nbformat_minor": 2
}
